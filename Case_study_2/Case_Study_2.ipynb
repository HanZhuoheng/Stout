{
 "cells": [
  {
   "cell_type": "code",
   "execution_count": 1,
   "id": "7dcaf12d",
   "metadata": {},
   "outputs": [],
   "source": [
    "import psycopg2\n",
    "import seaborn as sns"
   ]
  },
  {
   "cell_type": "code",
   "execution_count": 2,
   "id": "eaa25521",
   "metadata": {},
   "outputs": [],
   "source": [
    "def total_customers():\n",
    "    conn = psycopg2.connect(database = \"postgres\", \n",
    "                            user = \"postgres\", \n",
    "                            password = \"Hzh@981214\", \n",
    "                            host = \"127.0.0.1\", \n",
    "                            port = '5432')\n",
    "    cur = conn.cursor()\n",
    "    cur.execute('''SELECT year, COUNT(DISTINCT(customer_email)) FROM stout.Customers\n",
    "                GROUP BY year;''')\n",
    "\n",
    "    lst = []\n",
    "    for i in cur:\n",
    "        lst.append(i)\n",
    "    return lst\n",
    "    conn.commit()\n",
    "    cur.close()\n",
    "    conn.close()"
   ]
  },
  {
   "cell_type": "code",
   "execution_count": 3,
   "id": "a31f4581",
   "metadata": {},
   "outputs": [
    {
     "data": {
      "text/plain": [
       "[(2015, 231294), (2016, 204646), (2017, 249987)]"
      ]
     },
     "execution_count": 3,
     "metadata": {},
     "output_type": "execute_result"
    }
   ],
   "source": [
    "total_customers()"
   ]
  },
  {
   "cell_type": "markdown",
   "id": "7df5dfc2",
   "metadata": {},
   "source": [
    "The number of total customers in 2015 is 231294; The number of total customers in 2016 is 204646; The number of total customers in 2017 is 249987."
   ]
  },
  {
   "cell_type": "code",
   "execution_count": 4,
   "id": "639dd3d7",
   "metadata": {},
   "outputs": [],
   "source": [
    "def total_revenue():\n",
    "    conn = psycopg2.connect(database = \"postgres\", \n",
    "                            user = \"postgres\", \n",
    "                            password = \"Hzh@981214\", \n",
    "                            host = \"127.0.0.1\", \n",
    "                            port = '5432')\n",
    "    cur = conn.cursor()\n",
    "    cur.execute('''SELECT year, SUM(net_revenue) FROM stout.Customers\n",
    "                GROUP BY year;''')\n",
    "\n",
    "    lst = []\n",
    "    for i in cur:\n",
    "        lst.append(i)\n",
    "    return lst\n",
    "    conn.commit()\n",
    "    cur.close()\n",
    "    conn.close()"
   ]
  },
  {
   "cell_type": "code",
   "execution_count": 5,
   "id": "d7dcb941",
   "metadata": {},
   "outputs": [
    {
     "data": {
      "text/plain": [
       "[(2015, 29036808.0), (2016, 25730896.0), (2017, 31417716.0)]"
      ]
     },
     "execution_count": 5,
     "metadata": {},
     "output_type": "execute_result"
    }
   ],
   "source": [
    "total_revenue()"
   ]
  },
  {
   "cell_type": "markdown",
   "id": "f4e663ce",
   "metadata": {},
   "source": [
    "The total revenue in 2015 is 29036808; The total revenue in 2016 is 25730896; The total revenue in 2017 is 31417716."
   ]
  },
  {
   "cell_type": "code",
   "execution_count": 6,
   "id": "bbb907c4",
   "metadata": {},
   "outputs": [],
   "source": [
    "def new_customers(year):\n",
    "    conn = psycopg2.connect(database = \"postgres\", \n",
    "                            user = \"postgres\", \n",
    "                            password = \"Hzh@981214\", \n",
    "                            host = \"127.0.0.1\", \n",
    "                            port = '5432')\n",
    "    cur = conn.cursor()\n",
    "    \n",
    "    if year == 2016:\n",
    "        cur.execute('''SELECT SUM(t.count) FROM\n",
    "            (SELECT COUNT(DISTINCT(customer_email)) AS count FROM stout.Customers\n",
    "            GROUP BY customer_email\n",
    "            HAVING MIN(year) = 2016) t''')\n",
    "    elif year == 2017:\n",
    "        cur.execute('''SELECT SUM(t.count) FROM\n",
    "            (SELECT COUNT(DISTINCT(customer_email)) AS count FROM stout.Customers\n",
    "            GROUP BY customer_email\n",
    "            HAVING MIN(year) = 2017) t''')\n",
    "\n",
    "    lst = []\n",
    "    for i in cur:\n",
    "        lst.append(i)\n",
    "    return lst\n",
    "    conn.commit()\n",
    "    cur.close()\n",
    "    conn.close()"
   ]
  },
  {
   "cell_type": "code",
   "execution_count": 7,
   "id": "6836b215",
   "metadata": {},
   "outputs": [
    {
     "data": {
      "text/plain": [
       "[(Decimal('145062'),)]"
      ]
     },
     "execution_count": 7,
     "metadata": {},
     "output_type": "execute_result"
    }
   ],
   "source": [
    "new_customers(2016)"
   ]
  },
  {
   "cell_type": "code",
   "execution_count": 8,
   "id": "2c83606b",
   "metadata": {},
   "outputs": [
    {
     "data": {
      "text/plain": [
       "[(Decimal('228262'),)]"
      ]
     },
     "execution_count": 8,
     "metadata": {},
     "output_type": "execute_result"
    }
   ],
   "source": [
    "new_customers(2017)"
   ]
  },
  {
   "cell_type": "markdown",
   "id": "95900616",
   "metadata": {},
   "source": [
    "The number of new customers in 2016 is 145062; The number of new customers in 2017 is 228262."
   ]
  },
  {
   "cell_type": "code",
   "execution_count": 9,
   "id": "715b473f",
   "metadata": {},
   "outputs": [],
   "source": [
    "def new_customer_revenue(year):\n",
    "    conn = psycopg2.connect(database = \"postgres\", \n",
    "                            user = \"postgres\", \n",
    "                            password = \"Hzh@981214\", \n",
    "                            host = \"127.0.0.1\", \n",
    "                            port = '5432')\n",
    "    cur = conn.cursor()\n",
    "    \n",
    "    if year == 2016:\n",
    "        cur.execute('''SELECT SUM(t.sum_per_customer) FROM \n",
    "            (SELECT customer_email, year, SUM(net_revenue) AS sum_per_customer FROM stout.Customers\n",
    "            GROUP BY customer_email, year\n",
    "            HAVING MIN(year) = 2016) t\n",
    "            WHERE year = 2016''')\n",
    "    elif year == 2017:\n",
    "        cur.execute('''SELECT SUM(t.sum_per_customer) FROM \n",
    "            (SELECT customer_email, year, SUM(net_revenue) AS sum_per_customer FROM stout.Customers\n",
    "            GROUP BY customer_email, year\n",
    "            HAVING MIN(year) = 2017) t''')\n",
    "\n",
    "    lst = []\n",
    "    for i in cur:\n",
    "        lst.append(i)\n",
    "    return lst\n",
    "    conn.commit()\n",
    "    cur.close()\n",
    "    conn.close()"
   ]
  },
  {
   "cell_type": "code",
   "execution_count": 10,
   "id": "d4a250b1",
   "metadata": {},
   "outputs": [
    {
     "data": {
      "text/plain": [
       "[(25731016.0,)]"
      ]
     },
     "execution_count": 10,
     "metadata": {},
     "output_type": "execute_result"
    }
   ],
   "source": [
    "new_customer_revenue(2016)"
   ]
  },
  {
   "cell_type": "code",
   "execution_count": 11,
   "id": "a8d11abb",
   "metadata": {},
   "outputs": [
    {
     "data": {
      "text/plain": [
       "[(31417344.0,)]"
      ]
     },
     "execution_count": 11,
     "metadata": {},
     "output_type": "execute_result"
    }
   ],
   "source": [
    "new_customer_revenue(2017)"
   ]
  },
  {
   "cell_type": "markdown",
   "id": "ba1574c8",
   "metadata": {},
   "source": [
    "The new customer revenue in 2016 is 25731016; The new customer revenue in 2017 is 31417344."
   ]
  },
  {
   "cell_type": "code",
   "execution_count": 38,
   "id": "c77ec83c",
   "metadata": {},
   "outputs": [
    {
     "name": "stdout",
     "output_type": "stream",
     "text": [
      "5686328.0\n"
     ]
    }
   ],
   "source": [
    "new_revenue_2017 = new_customer_revenue(2017)\n",
    "new_revenue_2016 = new_customer_revenue(2016)\n",
    "new_customer_growth = new_revenue_2017[0][0]-new_revenue_2016[0][0]\n",
    "print(new_customer_growth)"
   ]
  },
  {
   "cell_type": "markdown",
   "id": "d2c65844",
   "metadata": {},
   "source": [
    "The new customer growth from 2016 to 2017 is 5686328.0."
   ]
  },
  {
   "cell_type": "code",
   "execution_count": 12,
   "id": "7d7fa113",
   "metadata": {},
   "outputs": [],
   "source": [
    "def existing_customers(year):\n",
    "    conn = psycopg2.connect(database = \"postgres\", \n",
    "                            user = \"postgres\", \n",
    "                            password = \"Hzh@981214\", \n",
    "                            host = \"127.0.0.1\", \n",
    "                            port = '5432')\n",
    "    cur = conn.cursor()\n",
    "    \n",
    "    if year == 2016:\n",
    "        cur.execute('''SELECT COUNT(DISTINCT(customer_email)) FROM stout.Customers\n",
    "            WHERE year = 2016 AND\n",
    "            customer_email IN \n",
    "            (SELECT DISTINCT(customer_email) FROM stout.Customers \n",
    "            WHERE year = 2015)''')\n",
    "    elif year == 2017:\n",
    "        cur.execute('''SELECT COUNT(DISTINCT(customer_email)) FROM stout.Customers\n",
    "            WHERE year = 2017 AND\n",
    "            customer_email IN \n",
    "            (SELECT DISTINCT(customer_email) FROM stout.Customers \n",
    "            WHERE year = 2015 OR year = 2016)''')\n",
    "\n",
    "    lst = []\n",
    "    for i in cur:\n",
    "        lst.append(i)\n",
    "    return lst\n",
    "    conn.commit()\n",
    "    cur.close()\n",
    "    conn.close()"
   ]
  },
  {
   "cell_type": "code",
   "execution_count": 13,
   "id": "8ed2ee04",
   "metadata": {},
   "outputs": [
    {
     "data": {
      "text/plain": [
       "[(59584,)]"
      ]
     },
     "execution_count": 13,
     "metadata": {},
     "output_type": "execute_result"
    }
   ],
   "source": [
    "existing_customers(2016)"
   ]
  },
  {
   "cell_type": "code",
   "execution_count": 14,
   "id": "2233c41c",
   "metadata": {},
   "outputs": [
    {
     "data": {
      "text/plain": [
       "[(21725,)]"
      ]
     },
     "execution_count": 14,
     "metadata": {},
     "output_type": "execute_result"
    }
   ],
   "source": [
    "existing_customers(2017)"
   ]
  },
  {
   "cell_type": "markdown",
   "id": "8b866f27",
   "metadata": {},
   "source": [
    "The number of existing customers in 2016 is 59584; The number of existing customers in 2017 is 21725."
   ]
  },
  {
   "cell_type": "code",
   "execution_count": 15,
   "id": "4be74686",
   "metadata": {},
   "outputs": [],
   "source": [
    "def existing_customer_revenue(year):\n",
    "    conn = psycopg2.connect(database = \"postgres\", \n",
    "                            user = \"postgres\", \n",
    "                            password = \"Hzh@981214\", \n",
    "                            host = \"127.0.0.1\", \n",
    "                            port = '5432')\n",
    "    cur = conn.cursor()\n",
    "    \n",
    "    if year == 2016:\n",
    "        cur.execute('''SELECT SUM(net_revenue) FROM stout.Customers\n",
    "            WHERE year = 2016 AND\n",
    "            customer_email IN \n",
    "            (SELECT DISTINCT(customer_email) FROM stout.Customers \n",
    "            WHERE year = 2015)''')\n",
    "    elif year == 2017:\n",
    "        cur.execute('''SELECT SUM(net_revenue) FROM stout.Customers\n",
    "            WHERE year = 2017 AND\n",
    "            customer_email IN \n",
    "            (SELECT DISTINCT(customer_email) FROM stout.Customers \n",
    "            WHERE year = 2015 OR year = 2016)''')\n",
    "\n",
    "    lst = []\n",
    "    for i in cur:\n",
    "        lst.append(i)\n",
    "    return lst\n",
    "    conn.commit()\n",
    "    cur.close()\n",
    "    conn.close()"
   ]
  },
  {
   "cell_type": "code",
   "execution_count": 16,
   "id": "97b64d70",
   "metadata": {},
   "outputs": [
    {
     "data": {
      "text/plain": [
       "[(7485440.0,)]"
      ]
     },
     "execution_count": 16,
     "metadata": {},
     "output_type": "execute_result"
    }
   ],
   "source": [
    "existing_customer_revenue(2016)"
   ]
  },
  {
   "cell_type": "code",
   "execution_count": 17,
   "id": "5a0828e4",
   "metadata": {},
   "outputs": [
    {
     "data": {
      "text/plain": [
       "[(2740886.2,)]"
      ]
     },
     "execution_count": 17,
     "metadata": {},
     "output_type": "execute_result"
    }
   ],
   "source": [
    "existing_customer_revenue(2017)"
   ]
  },
  {
   "cell_type": "markdown",
   "id": "fb416861",
   "metadata": {},
   "source": [
    "The existing customer revenue in 2016 is 7485440; The existing customer revenue in 2017 is 2740886."
   ]
  },
  {
   "cell_type": "code",
   "execution_count": 18,
   "id": "9679ab68",
   "metadata": {},
   "outputs": [
    {
     "name": "stdout",
     "output_type": "stream",
     "text": [
      "-4744557.5\n"
     ]
    }
   ],
   "source": [
    "existing_revenue_2017 = existing_customer_revenue(2017)\n",
    "existing_revenue_2016 = existing_customer_revenue(2016)\n",
    "existing_customer_growth = existing_revenue_2017[0][0]-existing_revenue_2016[0][0]\n",
    "print(existing_customer_growth)"
   ]
  },
  {
   "cell_type": "markdown",
   "id": "d20a2a5f",
   "metadata": {},
   "source": [
    "The existing customer growth from 2016 to 2017 is -4744557.5."
   ]
  },
  {
   "cell_type": "code",
   "execution_count": 48,
   "id": "29d80b52",
   "metadata": {},
   "outputs": [
    {
     "data": {
      "image/png": "[encoded data removed]",
      "text/plain": [
       "<Figure size 432x288 with 1 Axes>"
      ]
     },
     "metadata": {
      "needs_background": "light"
     },
     "output_type": "display_data"
    }
   ],
   "source": [
    "def number_of_customers_plot():\n",
    "    number_of_customers = total_customers()\n",
    "    years = [number_of_customers[i][0] for i in range(len(number_of_customers))]\n",
    "    numbers = [number_of_customers[i][1] for i in range(len(number_of_customers))]\n",
    "    sns.barplot(x = years, y = numbers)\n",
    "    \n",
    "number_of_customers_plot()"
   ]
  },
  {
   "cell_type": "markdown",
   "id": "c3a27a42",
   "metadata": {},
   "source": [
    "From the plot, we can find the total number of customers is highest in 2017 and lowest in 2016."
   ]
  },
  {
   "cell_type": "code",
   "execution_count": 47,
   "id": "10883e5f",
   "metadata": {},
   "outputs": [
    {
     "data": {
      "image/png": "[encoded data removed]",
      "text/plain": [
       "<Figure size 432x288 with 1 Axes>"
      ]
     },
     "metadata": {
      "needs_background": "light"
     },
     "output_type": "display_data"
    }
   ],
   "source": [
    "def total_revenue_plot():\n",
    "    total_revenue_per_year = total_revenue()\n",
    "    years = [total_revenue_per_year[i][0] for i in range(len(total_revenue_per_year))]\n",
    "    revenue = [total_revenue_per_year[i][1] for i in range(len(total_revenue_per_year))]\n",
    "    sns.barplot(x = years, y = revenue)\n",
    "    \n",
    "total_revenue_plot()"
   ]
  },
  {
   "cell_type": "markdown",
   "id": "cfeb1249",
   "metadata": {},
   "source": [
    "From the plot, we can find the total revenue is highest in 2017 and lowest in 2016, which is corresponding to the total number of customers."
   ]
  },
  {
   "cell_type": "code",
   "execution_count": 49,
   "id": "a55cba45",
   "metadata": {},
   "outputs": [
    {
     "data": {
      "image/png": "[encoded data removed]",
      "text/plain": [
       "<Figure size 432x288 with 1 Axes>"
      ]
     },
     "metadata": {
      "needs_background": "light"
     },
     "output_type": "display_data"
    }
   ],
   "source": [
    "def highest_customers_revenue():\n",
    "    conn = psycopg2.connect(database = \"postgres\", \n",
    "                            user = \"postgres\", \n",
    "                            password = \"Hzh@981214\", \n",
    "                            host = \"127.0.0.1\", \n",
    "                            port = '5432')\n",
    "    cur = conn.cursor()\n",
    "    cur.execute('''SELECT customer_email, SUM(net_revenue) AS sum_revenue FROM stout.Customers\n",
    "                GROUP BY customer_email\n",
    "                ORDER BY sum_revenue DESC\n",
    "                LIMIT 10;''')\n",
    "\n",
    "    lst = []\n",
    "    for i in cur:\n",
    "        lst.append(i)\n",
    "    return lst\n",
    "    conn.commit()\n",
    "    cur.close()\n",
    "    conn.close()\n",
    "\n",
    "def highest_customers_revenue_plot():\n",
    "    highest_revenue = highest_customers_revenue()\n",
    "    emails = [highest_revenue[i][0] for i in range(len(highest_revenue))]\n",
    "    revenue = [highest_revenue[i][1] for i in range(len(highest_revenue))]\n",
    "    sns.barplot(x = revenue, y = emails)\n",
    "    \n",
    "highest_customers_revenue_plot()"
   ]
  },
  {
   "cell_type": "markdown",
   "id": "a0191787",
   "metadata": {},
   "source": [
    "From the plot, we can see the top 10 customers revenue and all of them are having over 700 net revenue."
   ]
  },
  {
   "cell_type": "code",
   "execution_count": null,
   "id": "e0a0df14",
   "metadata": {},
   "outputs": [],
   "source": []
  }
 ],
 "metadata": {
  "kernelspec": {
   "display_name": "Python 3",
   "language": "python",
   "name": "python3"
  },
  "language_info": {
   "codemirror_mode": {
    "name": "ipython",
    "version": 3
   },
   "file_extension": ".py",
   "mimetype": "text/x-python",
   "name": "python",
   "nbconvert_exporter": "python",
   "pygments_lexer": "ipython3",
   "version": "3.8.8"
  }
 },
 "nbformat": 4,
 "nbformat_minor": 5
}
